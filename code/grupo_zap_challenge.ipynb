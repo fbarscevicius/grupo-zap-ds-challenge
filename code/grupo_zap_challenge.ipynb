{
 "cells": [
  {
   "cell_type": "markdown",
   "metadata": {},
   "source": [
    "<h1>GRUPO ZAP: DATA SCIENCE CHALLENGE</h1>"
   ]
  },
  {
   "cell_type": "code",
   "execution_count": 15,
   "metadata": {},
   "outputs": [],
   "source": [
    "import pandas as pd\n",
    "\n",
    "RAW_PATH   = '../data-raw/'\n",
    "GET_DATA   = False\n",
    "PARSE_DATA = False"
   ]
  },
  {
   "cell_type": "code",
   "execution_count": 2,
   "metadata": {},
   "outputs": [],
   "source": [
    "def download_json(url: str, path: str, filename: str) -> None:\n",
    "    '''\n",
    "    Automates JSON extraction from Grupo Zap raw data zipfiles,\n",
    "    saving the result inside the path provided\n",
    "    \n",
    "    Args:\n",
    "        url (str): url to get the zip from\n",
    "        path (str): directory where to save the data\n",
    "        filename (str): name of the resulting JSON (will concatenate with '.json')\n",
    "    '''\n",
    "    \n",
    "    import os\n",
    "    import errno\n",
    "    from urllib import request\n",
    "    from zipfile import ZipFile\n",
    "        \n",
    "    try:\n",
    "        os.makedirs(path)\n",
    "        \n",
    "    except OSError as err:\n",
    "        if err.errno != errno.EEXIST:\n",
    "            raise\n",
    "    \n",
    "    r    = request.urlopen(url)\n",
    "    data = r.read()\n",
    "\n",
    "    with open(path + filename + '.zip', 'wb') as f:       \n",
    "        f.write(data)\n",
    "        \n",
    "    dir_state = os.listdir(path)\n",
    "    \n",
    "    with ZipFile(path + filename + '.zip', 'r') as _zip:\n",
    "        _zip.extractall(path)\n",
    "        \n",
    "    extracted = [name for name in os.listdir(path) if name not in dir_state][0]\n",
    "    \n",
    "    os.rename(path + extracted, path + filename + '.json')\n",
    "    os.remove(path + filename + '.zip')"
   ]
  },
  {
   "cell_type": "code",
   "execution_count": 3,
   "metadata": {},
   "outputs": [],
   "source": [
    "def parse_json(path: str, verbose: bool = True) -> pd.DataFrame:\n",
    "    '''\n",
    "    Converts a nested JSON file to a pd.DataFrame\n",
    "    \n",
    "    Args:\n",
    "        path (str): path to json file\n",
    "        verbose (bool): toogles loading percentage\n",
    "        \n",
    "    Returns:\n",
    "        <pd.DataFrame>\n",
    "    '''\n",
    "    \n",
    "    import json\n",
    "    import pandas as pd\n",
    "    from IPython.display import clear_output\n",
    "\n",
    "    out = []\n",
    "    with open(path) as f:\n",
    "        document = []\n",
    "\n",
    "        for line in f:\n",
    "            document.append(line)\n",
    "\n",
    "        ttl = len(document)\n",
    "        i   = 1    \n",
    "        for record in document:\n",
    "            clear_output(wait=True)\n",
    "\n",
    "            parse       = json.loads(record)\n",
    "            df_unnested = pd.io.json.json_normalize(parse, sep='_')\n",
    "            out.append(df_unnested)\n",
    "            \n",
    "            if verbose:\n",
    "                print(f'Loading {path}: {round((i / ttl) * 100, 2)}%')\n",
    "                i += 1\n",
    "\n",
    "    return pd.concat(out, ignore_index=True, copy=False, sort=False)"
   ]
  },
  {
   "cell_type": "code",
   "execution_count": 4,
   "metadata": {},
   "outputs": [],
   "source": [
    "if GET_DATA:    \n",
    "    url_train = 'https://s3.amazonaws.com/grupozap-data-challenge/data/source-4-ds-train.json.zip'\n",
    "    url_test  = 'https://s3.amazonaws.com/grupozap-data-challenge/data/source-4-ds-test.json.zip'\n",
    "\n",
    "    download_json(url_train, RAW_PATH, 'train-raw')\n",
    "    download_json(url_test, RAW_PATH, 'test-raw')"
   ]
  },
  {
   "cell_type": "code",
   "execution_count": 5,
   "metadata": {},
   "outputs": [
    {
     "name": "stdout",
     "output_type": "stream",
     "text": [
      "Loading ../data-raw/test-raw.json: 100.0%\n"
     ]
    }
   ],
   "source": [
    "if PARSE_DATA:\n",
    "    json_train = RAW_PATH + 'train-raw.json'\n",
    "    json_test  = RAW_PATH + 'test-raw.json'\n",
    "\n",
    "    df_train = parse_json(json_train)\n",
    "    df_test  = parse_json(json_test)"
   ]
  }
 ],
 "metadata": {
  "kernelspec": {
   "display_name": "Python 3",
   "language": "python",
   "name": "python3"
  },
  "language_info": {
   "codemirror_mode": {
    "name": "ipython",
    "version": 3
   },
   "file_extension": ".py",
   "mimetype": "text/x-python",
   "name": "python",
   "nbconvert_exporter": "python",
   "pygments_lexer": "ipython3",
   "version": "3.6.8"
  }
 },
 "nbformat": 4,
 "nbformat_minor": 2
}
